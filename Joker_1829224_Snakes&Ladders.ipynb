{
 "cells": [
  {
   "cell_type": "markdown",
   "metadata": {},
   "source": [
    "# Snake 🐍 and Ladder"
   ]
  },
  {
   "cell_type": "markdown",
   "metadata": {},
   "source": [
    "House Name: Joker\n",
    "Roll No. : 1829224\n",
    "Email : 1829224@kiit.ac.in\n",
    "Assignment: Snakes & Ladders"
   ]
  },
  {
   "cell_type": "code",
   "execution_count": 1,
   "metadata": {},
   "outputs": [],
   "source": [
    "import random\n",
    "\n",
    "# Snakes takes you down from 'Key' to 'Value'\n",
    "snakes = {\n",
    "    8: 4,\n",
    "    17: 7,\n",
    "    26: 10,\n",
    "    39: 5,\n",
    "    51: 6,\n",
    "    54: 34,\n",
    "    56: 1,\n",
    "    62: 19,\n",
    "    75: 28,\n",
    "    83: 45,\n",
    "    85: 59,\n",
    "    90: 48,\n",
    "    92: 25,\n",
    "    98: 79\n",
    "}\n",
    "\n",
    "# Ladders takes you up from 'Key' to 'Value'\n",
    "ladders = {\n",
    "    3: 38,\n",
    "    6: 14,\n",
    "    11: 28,\n",
    "    15: 34,\n",
    "    17: 74,\n",
    "    24: 33,\n",
    "    38: 59,\n",
    "    42: 93,\n",
    "    57: 76,\n",
    "    61: 78,\n",
    "    72: 84,\n",
    "    81: 98,\n",
    "    88: 91\n",
    "}\n",
    "\n",
    "manual = ('1','2','3','4','5','6','7','8','9','10','11','12','13','14','15','16','17','18','19','20')\n",
    "\n",
    "# Stores current position of players\n",
    "position = {\n",
    "    1: 0,\n",
    "    2: 0,\n",
    "}\n",
    "\n",
    "#Stores name of players\n",
    "players = {\n",
    "    1:None,\n",
    "    2:None,\n",
    "}\n",
    "p=1 #current player\n",
    "f=0 #for no. of invalid inputs\n",
    "won=False"
   ]
  },
  {
   "cell_type": "code",
   "execution_count": 2,
   "metadata": {},
   "outputs": [],
   "source": [
    "def turn(): #For switching player\n",
    "    global p\n",
    "    global f\n",
    "    p=2 if p==1 else 1\n",
    "    f=0 #resets count of invalid inputs"
   ]
  },
  {
   "cell_type": "code",
   "execution_count": 3,
   "metadata": {},
   "outputs": [],
   "source": [
    "def win(): \n",
    "    print(players[p],\"has won the game\\n##### Game Successfully Finished #####\")"
   ]
  },
  {
   "cell_type": "code",
   "execution_count": 4,
   "metadata": {},
   "outputs": [],
   "source": [
    "\n",
    "def dice():\n",
    "    global f\n",
    "    global won\n",
    "    temp=input('\\n'+players[p]+': ')\n",
    "    \n",
    "    if temp == 'roll':\n",
    "        return(random.randint(1,6))\n",
    "    \n",
    "    elif temp == 'quit': #returns 0 as input, terminates current player's turn and declare other player winner\n",
    "        turn() \n",
    "        won=True\n",
    "        return(0)\n",
    "        \n",
    "    elif temp =='help':\n",
    "        print(\"'roll':roll dice\\n'quit':quit game\\nElse provide manual input from 1 to 20\\nAutomatic input after 2 consecutive invalid inputs😅\\n\")\n",
    "        dice()\n",
    "        \n",
    "    elif temp in manual:\n",
    "        return(int(temp))\n",
    "    \n",
    "    else:\n",
    "        f += 1\n",
    "        print(\"Invalid input, Automatic input after 2 Invalid inputs\")\n",
    "        return(random.randint(1,6) if f>1 else dice())"
   ]
  },
  {
   "cell_type": "code",
   "execution_count": 5,
   "metadata": {},
   "outputs": [],
   "source": [
    "def display(got,old):\n",
    "    print(\"You got a\",got,\"\\n\",players[p],\"moved from\",old,\"to\",position[p])"
   ]
  },
  {
   "cell_type": "code",
   "execution_count": 6,
   "metadata": {},
   "outputs": [],
   "source": [
    "def game():\n",
    "    got=dice()\n",
    "    temp = position.get(p)+got\n",
    "    old = position.get(p)\n",
    "    global won\n",
    "    \n",
    "    if temp==100 or won==True: \n",
    "        won = True\n",
    "        return(win())\n",
    "    elif temp in snakes:\n",
    "        position[p] = snakes[temp]\n",
    "    elif temp in ladders:\n",
    "        position[p] = ladders[temp]\n",
    "    elif temp > 100:\n",
    "        print(\"You need \",100-position[p],\"to win, Better Luck next time\")\n",
    "    else:\n",
    "        position[p]=position.get(p)+got\n",
    "        \n",
    "        \n",
    "    display(got,old)\n",
    "    while(won!=True):\n",
    "        turn()\n",
    "        game()\n",
    "    "
   ]
  },
  {
   "cell_type": "code",
   "execution_count": 7,
   "metadata": {},
   "outputs": [],
   "source": [
    "def start():\n",
    "    global p,f\n",
    "    position[1]=0\n",
    "    position[2]=0\n",
    "    players[1]=None\n",
    "    players[2]=None\n",
    "    p=1\n",
    "    f=0\n",
    "    print(\"##### Welcome to Snakes & Ladders Game #####\")\n",
    "    players[1]=input(\"Enter the name of Player 1:\")\n",
    "    players[2]=input(\"Enter the name of Player 2:\")\n",
    "    print(\"##### Let us Start #####\")\n",
    "    game()"
   ]
  },
  {
   "cell_type": "code",
   "execution_count": 8,
   "metadata": {},
   "outputs": [
    {
     "name": "stdout",
     "output_type": "stream",
     "text": [
      "##### Welcome to Snakes & Ladders Game #####\n",
      "Enter the name of Player 1:KT\n",
      "Enter the name of Player 2:VK\n",
      "##### Let us Start #####\n",
      "\n",
      "KT: roll\n",
      "You got a 2 \n",
      " KT moved from 0 to 2\n",
      "\n",
      "VK: 20\n",
      "You got a 20 \n",
      " VK moved from 0 to 20\n",
      "\n",
      "KT: ryr\n",
      "Invalid input, Automatic input after 2 Invalid inputs\n",
      "\n",
      "KT: 23\n",
      "Invalid input, Automatic input after 2 Invalid inputs\n",
      "You got a 6 \n",
      " KT moved from 2 to 4\n",
      "\n",
      "VK: 20\n",
      "You got a 20 \n",
      " VK moved from 20 to 40\n",
      "\n",
      "KT: 20\n",
      "You got a 20 \n",
      " KT moved from 4 to 33\n",
      "\n",
      "VK: 20\n",
      "You got a 20 \n",
      " VK moved from 40 to 60\n",
      "\n",
      "KT: 20\n",
      "You got a 20 \n",
      " KT moved from 33 to 53\n",
      "\n",
      "VK: 20\n",
      "You got a 20 \n",
      " VK moved from 60 to 80\n",
      "\n",
      "KT: 20\n",
      "You got a 20 \n",
      " KT moved from 53 to 73\n",
      "\n",
      "VK: 1\n",
      "You got a 1 \n",
      " VK moved from 80 to 98\n",
      "\n",
      "KT: 20\n",
      "You got a 20 \n",
      " KT moved from 73 to 93\n",
      "\n",
      "VK: 3\n",
      "You need  2 to win, Better Luck next time\n",
      "You got a 3 \n",
      " VK moved from 98 to 98\n",
      "\n",
      "KT: quit\n",
      "VK has won the game\n",
      "##### Game Successfully Finished #####\n"
     ]
    }
   ],
   "source": [
    "start()"
   ]
  },
  {
   "cell_type": "code",
   "execution_count": null,
   "metadata": {},
   "outputs": [],
   "source": []
  }
 ],
 "metadata": {
  "kernelspec": {
   "display_name": "Python 3",
   "language": "python",
   "name": "python3"
  },
  "language_info": {
   "codemirror_mode": {
    "name": "ipython",
    "version": 3
   },
   "file_extension": ".py",
   "mimetype": "text/x-python",
   "name": "python",
   "nbconvert_exporter": "python",
   "pygments_lexer": "ipython3",
   "version": "3.7.7"
  }
 },
 "nbformat": 4,
 "nbformat_minor": 4
}
